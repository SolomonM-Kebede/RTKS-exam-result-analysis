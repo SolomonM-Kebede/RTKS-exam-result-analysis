{
 "cells": [
  {
   "cell_type": "markdown",
   "id": "ca9a3447",
   "metadata": {},
   "source": [
    "# Goethe University RTKS 2024 exam result analysis"
   ]
  },
  {
   "cell_type": "code",
   "execution_count": 1,
   "id": "b61e8082",
   "metadata": {},
   "outputs": [],
   "source": [
    "import pandas as pd\n",
    "import matplotlib.pyplot as plt"
   ]
  },
  {
   "cell_type": "markdown",
   "id": "3fb4b355",
   "metadata": {},
   "source": [
    "### Read the CSV data\n"
   ]
  },
  {
   "cell_type": "code",
   "execution_count": 2,
   "id": "b52c9c42",
   "metadata": {},
   "outputs": [
    {
     "data": {
      "text/html": [
       "<div>\n",
       "<style scoped>\n",
       "    .dataframe tbody tr th:only-of-type {\n",
       "        vertical-align: middle;\n",
       "    }\n",
       "\n",
       "    .dataframe tbody tr th {\n",
       "        vertical-align: top;\n",
       "    }\n",
       "\n",
       "    .dataframe thead th {\n",
       "        text-align: right;\n",
       "    }\n",
       "</style>\n",
       "<table border=\"1\" class=\"dataframe\">\n",
       "  <thead>\n",
       "    <tr style=\"text-align: right;\">\n",
       "      <th></th>\n",
       "      <th>MN</th>\n",
       "      <th>Notes</th>\n",
       "    </tr>\n",
       "  </thead>\n",
       "  <tbody>\n",
       "    <tr>\n",
       "      <th>1</th>\n",
       "      <td>xx00655</td>\n",
       "      <td>3+</td>\n",
       "    </tr>\n",
       "    <tr>\n",
       "      <th>2</th>\n",
       "      <td>xx04441</td>\n",
       "      <td>2+</td>\n",
       "    </tr>\n",
       "    <tr>\n",
       "      <th>3</th>\n",
       "      <td>xx04762</td>\n",
       "      <td>3</td>\n",
       "    </tr>\n",
       "    <tr>\n",
       "      <th>4</th>\n",
       "      <td>xx04886</td>\n",
       "      <td>2-</td>\n",
       "    </tr>\n",
       "    <tr>\n",
       "      <th>5</th>\n",
       "      <td>xx05606</td>\n",
       "      <td>3+</td>\n",
       "    </tr>\n",
       "    <tr>\n",
       "      <th>...</th>\n",
       "      <td>...</td>\n",
       "      <td>...</td>\n",
       "    </tr>\n",
       "    <tr>\n",
       "      <th>189</th>\n",
       "      <td>xx97112</td>\n",
       "      <td>3</td>\n",
       "    </tr>\n",
       "    <tr>\n",
       "      <th>190</th>\n",
       "      <td>xx98221</td>\n",
       "      <td>3</td>\n",
       "    </tr>\n",
       "    <tr>\n",
       "      <th>191</th>\n",
       "      <td>xx98461</td>\n",
       "      <td>3-</td>\n",
       "    </tr>\n",
       "    <tr>\n",
       "      <th>192</th>\n",
       "      <td>xx99273</td>\n",
       "      <td>1</td>\n",
       "    </tr>\n",
       "    <tr>\n",
       "      <th>193</th>\n",
       "      <td>xx99547</td>\n",
       "      <td>3+</td>\n",
       "    </tr>\n",
       "  </tbody>\n",
       "</table>\n",
       "<p>193 rows × 2 columns</p>\n",
       "</div>"
      ],
      "text/plain": [
       "          MN Notes\n",
       "1    xx00655    3+\n",
       "2    xx04441    2+\n",
       "3    xx04762     3\n",
       "4    xx04886    2-\n",
       "5    xx05606    3+\n",
       "..       ...   ...\n",
       "189  xx97112     3\n",
       "190  xx98221     3\n",
       "191  xx98461    3-\n",
       "192  xx99273     1\n",
       "193  xx99547    3+\n",
       "\n",
       "[193 rows x 2 columns]"
      ]
     },
     "execution_count": 2,
     "metadata": {},
     "output_type": "execute_result"
    }
   ],
   "source": [
    "rtks_df = pd.read_csv(\"RTKS erste Klausur.csv\", header=None)\n",
    "rtks_df.columns = [\"MN\", \"Notes\"]\n",
    "rtks_df.index += 1\n",
    "rtks_df"
   ]
  },
  {
   "cell_type": "code",
   "execution_count": 3,
   "id": "58c12599",
   "metadata": {},
   "outputs": [
    {
     "data": {
      "text/plain": [
       "386"
      ]
     },
     "execution_count": 3,
     "metadata": {},
     "output_type": "execute_result"
    }
   ],
   "source": [
    "rtks_df.size"
   ]
  },
  {
   "cell_type": "markdown",
   "id": "842fb067",
   "metadata": {},
   "source": [
    "### Clean the data before comparing them\n"
   ]
  },
  {
   "cell_type": "code",
   "execution_count": 4,
   "id": "1d8b0e3c",
   "metadata": {},
   "outputs": [
    {
     "data": {
      "text/html": [
       "<div>\n",
       "<style scoped>\n",
       "    .dataframe tbody tr th:only-of-type {\n",
       "        vertical-align: middle;\n",
       "    }\n",
       "\n",
       "    .dataframe tbody tr th {\n",
       "        vertical-align: top;\n",
       "    }\n",
       "\n",
       "    .dataframe thead th {\n",
       "        text-align: right;\n",
       "    }\n",
       "</style>\n",
       "<table border=\"1\" class=\"dataframe\">\n",
       "  <thead>\n",
       "    <tr style=\"text-align: right;\">\n",
       "      <th></th>\n",
       "      <th>MN</th>\n",
       "      <th>Notes</th>\n",
       "    </tr>\n",
       "  </thead>\n",
       "  <tbody>\n",
       "    <tr>\n",
       "      <th>1</th>\n",
       "      <td>xx00655</td>\n",
       "      <td>3</td>\n",
       "    </tr>\n",
       "    <tr>\n",
       "      <th>2</th>\n",
       "      <td>xx04441</td>\n",
       "      <td>2</td>\n",
       "    </tr>\n",
       "    <tr>\n",
       "      <th>3</th>\n",
       "      <td>xx04762</td>\n",
       "      <td>3</td>\n",
       "    </tr>\n",
       "    <tr>\n",
       "      <th>4</th>\n",
       "      <td>xx04886</td>\n",
       "      <td>2</td>\n",
       "    </tr>\n",
       "    <tr>\n",
       "      <th>5</th>\n",
       "      <td>xx05606</td>\n",
       "      <td>3</td>\n",
       "    </tr>\n",
       "    <tr>\n",
       "      <th>...</th>\n",
       "      <td>...</td>\n",
       "      <td>...</td>\n",
       "    </tr>\n",
       "    <tr>\n",
       "      <th>189</th>\n",
       "      <td>xx97112</td>\n",
       "      <td>3</td>\n",
       "    </tr>\n",
       "    <tr>\n",
       "      <th>190</th>\n",
       "      <td>xx98221</td>\n",
       "      <td>3</td>\n",
       "    </tr>\n",
       "    <tr>\n",
       "      <th>191</th>\n",
       "      <td>xx98461</td>\n",
       "      <td>3</td>\n",
       "    </tr>\n",
       "    <tr>\n",
       "      <th>192</th>\n",
       "      <td>xx99273</td>\n",
       "      <td>1</td>\n",
       "    </tr>\n",
       "    <tr>\n",
       "      <th>193</th>\n",
       "      <td>xx99547</td>\n",
       "      <td>3</td>\n",
       "    </tr>\n",
       "  </tbody>\n",
       "</table>\n",
       "<p>193 rows × 2 columns</p>\n",
       "</div>"
      ],
      "text/plain": [
       "          MN  Notes\n",
       "1    xx00655      3\n",
       "2    xx04441      2\n",
       "3    xx04762      3\n",
       "4    xx04886      2\n",
       "5    xx05606      3\n",
       "..       ...    ...\n",
       "189  xx97112      3\n",
       "190  xx98221      3\n",
       "191  xx98461      3\n",
       "192  xx99273      1\n",
       "193  xx99547      3\n",
       "\n",
       "[193 rows x 2 columns]"
      ]
     },
     "execution_count": 4,
     "metadata": {},
     "output_type": "execute_result"
    }
   ],
   "source": [
    "# remove '+' and '-' signs\n",
    "rtks_df[\"Notes\"] = rtks_df[\"Notes\"].str.replace('+', ' ').str.replace('-', ' ')\n",
    "# convert obeject type to int\n",
    "rtks_df[\"Notes\"] = pd.to_numeric(rtks_df[\"Notes\"], errors='coerce').fillna(0).astype(int)\n",
    "rtks_df"
   ]
  },
  {
   "cell_type": "markdown",
   "id": "53ca99e8",
   "metadata": {},
   "source": [
    "### Categorize the grades and add a column"
   ]
  },
  {
   "cell_type": "code",
   "execution_count": 5,
   "id": "dc1bac02",
   "metadata": {},
   "outputs": [
    {
     "data": {
      "text/html": [
       "<div>\n",
       "<style scoped>\n",
       "    .dataframe tbody tr th:only-of-type {\n",
       "        vertical-align: middle;\n",
       "    }\n",
       "\n",
       "    .dataframe tbody tr th {\n",
       "        vertical-align: top;\n",
       "    }\n",
       "\n",
       "    .dataframe thead th {\n",
       "        text-align: right;\n",
       "    }\n",
       "</style>\n",
       "<table border=\"1\" class=\"dataframe\">\n",
       "  <thead>\n",
       "    <tr style=\"text-align: right;\">\n",
       "      <th></th>\n",
       "      <th>MN</th>\n",
       "      <th>Notes</th>\n",
       "      <th>Category</th>\n",
       "    </tr>\n",
       "  </thead>\n",
       "  <tbody>\n",
       "    <tr>\n",
       "      <th>1</th>\n",
       "      <td>xx00655</td>\n",
       "      <td>3</td>\n",
       "      <td>satisfactory</td>\n",
       "    </tr>\n",
       "    <tr>\n",
       "      <th>2</th>\n",
       "      <td>xx04441</td>\n",
       "      <td>2</td>\n",
       "      <td>good</td>\n",
       "    </tr>\n",
       "    <tr>\n",
       "      <th>3</th>\n",
       "      <td>xx04762</td>\n",
       "      <td>3</td>\n",
       "      <td>satisfactory</td>\n",
       "    </tr>\n",
       "    <tr>\n",
       "      <th>4</th>\n",
       "      <td>xx04886</td>\n",
       "      <td>2</td>\n",
       "      <td>good</td>\n",
       "    </tr>\n",
       "    <tr>\n",
       "      <th>5</th>\n",
       "      <td>xx05606</td>\n",
       "      <td>3</td>\n",
       "      <td>satisfactory</td>\n",
       "    </tr>\n",
       "    <tr>\n",
       "      <th>...</th>\n",
       "      <td>...</td>\n",
       "      <td>...</td>\n",
       "      <td>...</td>\n",
       "    </tr>\n",
       "    <tr>\n",
       "      <th>189</th>\n",
       "      <td>xx97112</td>\n",
       "      <td>3</td>\n",
       "      <td>satisfactory</td>\n",
       "    </tr>\n",
       "    <tr>\n",
       "      <th>190</th>\n",
       "      <td>xx98221</td>\n",
       "      <td>3</td>\n",
       "      <td>satisfactory</td>\n",
       "    </tr>\n",
       "    <tr>\n",
       "      <th>191</th>\n",
       "      <td>xx98461</td>\n",
       "      <td>3</td>\n",
       "      <td>satisfactory</td>\n",
       "    </tr>\n",
       "    <tr>\n",
       "      <th>192</th>\n",
       "      <td>xx99273</td>\n",
       "      <td>1</td>\n",
       "      <td>very good</td>\n",
       "    </tr>\n",
       "    <tr>\n",
       "      <th>193</th>\n",
       "      <td>xx99547</td>\n",
       "      <td>3</td>\n",
       "      <td>satisfactory</td>\n",
       "    </tr>\n",
       "  </tbody>\n",
       "</table>\n",
       "<p>193 rows × 3 columns</p>\n",
       "</div>"
      ],
      "text/plain": [
       "          MN  Notes      Category\n",
       "1    xx00655      3  satisfactory\n",
       "2    xx04441      2          good\n",
       "3    xx04762      3  satisfactory\n",
       "4    xx04886      2          good\n",
       "5    xx05606      3  satisfactory\n",
       "..       ...    ...           ...\n",
       "189  xx97112      3  satisfactory\n",
       "190  xx98221      3  satisfactory\n",
       "191  xx98461      3  satisfactory\n",
       "192  xx99273      1     very good\n",
       "193  xx99547      3  satisfactory\n",
       "\n",
       "[193 rows x 3 columns]"
      ]
     },
     "execution_count": 5,
     "metadata": {},
     "output_type": "execute_result"
    }
   ],
   "source": [
    "bins = [1,2,3,4,5]\n",
    "labels = [\"very good\", \"good\",\"satisfactory\", \"Failed\"]\n",
    "rtks_df[\"Category\"] = pd.cut(rtks_df[\"Notes\"], bins=bins, labels = labels, right = False)\n",
    "rtks_df"
   ]
  },
  {
   "cell_type": "markdown",
   "id": "b57f0cd4",
   "metadata": {},
   "source": [
    "### Visualize the data using pie chart "
   ]
  },
  {
   "cell_type": "code",
   "execution_count": 9,
   "id": "dd9b16d1",
   "metadata": {},
   "outputs": [
    {
     "data": {
      "image/png": "[encoded data removed]",
      "text/plain": [
       "<Figure size 800x800 with 1 Axes>"
      ]
     },
     "metadata": {},
     "output_type": "display_data"
    }
   ],
   "source": [
    "category_counts = rtks_df[\"Category\"].value_counts()\n",
    "labels = category_counts.index.tolist()\n",
    "explode = (0, 0, 0, 0.1)\n",
    "plt.figure(figsize=(8,8))\n",
    "plt.pie(category_counts, labels=labels, explode =explode, autopct='%1.1f%%', startangle=150,colors=['#ff9999','#66b3ff','#99ff99','#ffcc99'])\n",
    "plt.title(\"RTKS erste ergebnis\")\n",
    "plt.axis(\"equal\")\n",
    "plt.show()"
   ]
  },
  {
   "cell_type": "markdown",
   "id": "61a4aeb3",
   "metadata": {},
   "source": [
    "### Author: \n",
    "#####               Solomon Mengesha Kebede "
   ]
  },
  {
   "cell_type": "code",
   "execution_count": null,
   "id": "2d68853a",
   "metadata": {},
   "outputs": [],
   "source": []
  }
 ],
 "metadata": {
  "kernelspec": {
   "display_name": "Python 3 (ipykernel)",
   "language": "python",
   "name": "python3"
  },
  "language_info": {
   "codemirror_mode": {
    "name": "ipython",
    "version": 3
   },
   "file_extension": ".py",
   "mimetype": "text/x-python",
   "name": "python",
   "nbconvert_exporter": "python",
   "pygments_lexer": "ipython3",
   "version": "3.11.5"
  }
 },
 "nbformat": 4,
 "nbformat_minor": 5
}
